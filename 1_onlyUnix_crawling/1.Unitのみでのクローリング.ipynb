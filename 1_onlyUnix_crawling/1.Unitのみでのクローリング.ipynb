{
 "cells": [
  {
   "cell_type": "markdown",
   "metadata": {},
   "source": [
    "# grepとcutコマンドを使う"
   ]
  },
  {
   "cell_type": "markdown",
   "metadata": {
    "collapsed": true
   },
   "source": [
    "下記のようにcutコマンドを使うと、条件を満たす場所を取り出すことができる<br>\n",
    "sed -e 's/.*(探索する単語).*/\\1/'<br>\n",
    "例えば下のようになる"
   ]
  },
  {
   "cell_type": "markdown",
   "metadata": {},
   "source": [
    "$ echo 'abcdefghijklmn' | sed -e \"s/.*\\(d.).*/\\1\\\"<br>\n",
    "de"
   ]
  },
  {
   "cell_type": "markdown",
   "metadata": {},
   "source": [
    "下記のようにすると、条件を満たす場所を取り除くことができる<br>\n",
    "sed -e 's/(取り除きたい場所にマッチする正規表現)//g'<br>\n",
    "これを使うことで、sample.htmlからページの情報を取り出すことができる"
   ]
  },
  {
   "cell_type": "markdown",
   "metadata": {},
   "source": [
    "$cat sample_page.html | grep -E 'class=\"paging-number\".*-' | sed -E 's/,[^>]*>//g'<br>\n",
    "1 - 30 / 2162"
   ]
  },
  {
   "cell_type": "code",
   "execution_count": null,
   "metadata": {
    "collapsed": true
   },
   "outputs": [],
   "source": []
  }
 ],
 "metadata": {
  "kernelspec": {
   "display_name": "Python [conda env:py34]",
   "language": "python",
   "name": "conda-env-py34-py"
  },
  "language_info": {
   "codemirror_mode": {
    "name": "ipython",
    "version": 3
   },
   "file_extension": ".py",
   "mimetype": "text/x-python",
   "name": "python",
   "nbconvert_exporter": "python",
   "pygments_lexer": "ipython3",
   "version": "3.5.3"
  }
 },
 "nbformat": 4,
 "nbformat_minor": 2
}
